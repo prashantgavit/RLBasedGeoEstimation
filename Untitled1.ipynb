{
 "cells": [
  {
   "cell_type": "code",
   "execution_count": 1,
   "id": "b624af13-51b6-4fa9-bccd-42cb3fbeb1f5",
   "metadata": {},
   "outputs": [
    {
     "name": "stderr",
     "output_type": "stream",
     "text": [
      "/home/017463277@SJSUAD/python_virtual_env/py_36_rf/lib/python3.6/site-packages/tqdm/auto.py:22: TqdmWarning: IProgress not found. Please update jupyter and ipywidgets. See https://ipywidgets.readthedocs.io/en/stable/user_install.html\n",
      "  from .autonotebook import tqdm as notebook_tqdm\n"
     ]
    }
   ],
   "source": [
    "from classification.model_wrapper import taskPredictor\n",
    "from classification.train_base import MultiPartitioningClassifier\n",
    "import numpy as np\n",
    "import pickle\n"
   ]
  },
  {
   "cell_type": "code",
   "execution_count": 2,
   "id": "2c8ac0de-00fb-4fdf-ada9-c4e85e80b534",
   "metadata": {},
   "outputs": [],
   "source": [
    "checkpoint = \"models/base_M/epoch=014-val_loss=18.4833.ckpt\"\n",
    "hparams =\"models/base_M/hparams.yaml\""
   ]
  },
  {
   "cell_type": "code",
   "execution_count": 3,
   "id": "32db9bdf-911b-4ce2-b10b-6c719e7573ec",
   "metadata": {},
   "outputs": [
    {
     "name": "stdout",
     "output_type": "stream",
     "text": [
      "{'arch': 'resnet50', 'batch_size': 128, 'key_img_encoded': 'image', 'key_img_id': 'id', 'msgpack_train_dir': 'resources/images/mp16', 'msgpack_val_dir': 'resources/images/yfcc25600', 'num_workers_per_loader': 6, 'optim': {'params': {'lr': 0.01, 'momentum': 0.9, 'weight_decay': 0.0001}}, 'partitionings': {'files': ['resources/s2_cells/cells_50_5000.csv', 'resources/s2_cells/cells_50_2000.csv', 'resources/s2_cells/cells_50_1000.csv'], 'ptype': 'default', 'shortnames': ['coarse', 'middle', 'fine']}, 'scheduler': {'params': {'gamma': 0.5, 'milestones': [4, 8, 12, 13, 14, 15]}}, 'train_label_mapping': 'resources/mp16_places365_mapping_h3.json', 'train_meta_path': 'resources/mp16_places365.csv', 'val_check_interval': 4000, 'val_label_mapping': 'resources/yfcc_25600_places365_mapping_h3.json', 'val_meta_path': 'resources/yfcc25600_places365.csv', 'weights': None, 'on_gpu': False}\n"
     ]
    }
   ],
   "source": [
    "model = MultiPartitioningClassifier.load_from_checkpoint(\n",
    "\n",
    "    checkpoint_path=str(checkpoint),\n",
    "    hparams_file=str(hparams),\n",
    "    map_location=None,\n",
    ")"
   ]
  },
  {
   "cell_type": "code",
   "execution_count": 4,
   "id": "37149f80-31ab-41fb-b6eb-52705f4d9c19",
   "metadata": {},
   "outputs": [
    {
     "name": "stdout",
     "output_type": "stream",
     "text": [
      "True\n"
     ]
    }
   ],
   "source": [
    "task_predictor = taskPredictor(model)"
   ]
  },
  {
   "cell_type": "code",
   "execution_count": 5,
   "id": "1dbaf11a-3478-4dc3-b1de-9034f4c4ff02",
   "metadata": {},
   "outputs": [],
   "source": [
    "train_array = np.load(\"test_data/train_array.npy\")\n",
    "val_array = np.load(\"test_data/val_array.npy\")\n",
    "test_array = np.load(\"test_data/test_array.npy\")"
   ]
  },
  {
   "cell_type": "code",
   "execution_count": 9,
   "id": "409376da-1810-4a63-9158-4ffb5437a6a8",
   "metadata": {},
   "outputs": [
    {
     "data": {
      "text/plain": [
       "(445, 5, 3, 224, 224)"
      ]
     },
     "execution_count": 9,
     "metadata": {},
     "output_type": "execute_result"
    }
   ],
   "source": [
    "train_array.shape"
   ]
  },
  {
   "cell_type": "code",
   "execution_count": 6,
   "id": "b60ca9dd-492e-49c3-bdfc-37d2adce3e7a",
   "metadata": {},
   "outputs": [],
   "source": [
    "with open(\"test_data/paths.pkl\", \"rb\") as f:\n",
    "    paths = pickle.load(f)\n",
    "    train_paths = paths[\"train\"]\n",
    "    val_paths = paths[\"val\"]\n",
    "    test_paths = paths[\"test\"]"
   ]
  },
  {
   "cell_type": "code",
   "execution_count": 7,
   "id": "f58247b7-932c-42c0-866c-674b2cbc7727",
   "metadata": {},
   "outputs": [],
   "source": [
    "paths = train_paths + val_paths + test_paths\n",
    "\n",
    "all_country = [path.split('/')[-2].replace(\" \",\"\").lower() for path in paths]\n",
    "\n",
    "train_country = [path.split('/')[-2].replace(\" \",\"\").lower() for path in train_paths]\n",
    "val_country = [path.split('/')[-2].replace(\" \",\"\").lower() for path in val_paths]\n",
    "test_country = [path.split('/')[-2].replace(\" \",\"\").lower() for path in test_paths]"
   ]
  },
  {
   "cell_type": "code",
   "execution_count": 8,
   "id": "2926f6e8-cc91-4c9a-bc4f-ffc820da6d66",
   "metadata": {},
   "outputs": [
    {
     "data": {
      "text/plain": [
       "0.2"
      ]
     },
     "execution_count": 8,
     "metadata": {},
     "output_type": "execute_result"
    }
   ],
   "source": [
    "task_predictor.evaluate(train_array[0:5], train_country[0:5])"
   ]
  },
  {
   "cell_type": "code",
   "execution_count": null,
   "id": "9e770c72-eb08-4cfa-9783-df50467288f8",
   "metadata": {},
   "outputs": [],
   "source": []
  }
 ],
 "metadata": {
  "kernelspec": {
   "display_name": "Python (py_36_rf)",
   "language": "python",
   "name": "py_36_rf"
  },
  "language_info": {
   "codemirror_mode": {
    "name": "ipython",
    "version": 3
   },
   "file_extension": ".py",
   "mimetype": "text/x-python",
   "name": "python",
   "nbconvert_exporter": "python",
   "pygments_lexer": "ipython3",
   "version": "3.6.15"
  }
 },
 "nbformat": 4,
 "nbformat_minor": 5
}

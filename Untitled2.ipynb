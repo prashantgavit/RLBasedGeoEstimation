{
 "cells": [
  {
   "cell_type": "code",
   "execution_count": 19,
   "id": "984e1315-d4c0-47de-ad33-0557cfa07dd3",
   "metadata": {},
   "outputs": [],
   "source": [
    "# from tensorflow.keras import Input, Model\n",
    "# from tensorflow.keras.layers import Conv2D, MaxPooling2D, Flatten, Dense, Dropout, Lambda,Reshape\n",
    "# import tensorflow as tf\n",
    "# import keras\n",
    "\n"
   ]
  },
  {
   "cell_type": "code",
   "execution_count": 9,
   "id": "1a156f15-33f0-4aef-b1cb-940d0cced039",
   "metadata": {},
   "outputs": [],
   "source": [
    "from keras import layers\n",
    "import keras\n",
    "\n",
    "# Define the input shape\n",
    "image_shape = (5, 3, 224, 224)\n",
    "\n",
    "def build_actor_critic(img_shape, action_shape=(1,)):\n",
    "\n",
    "    n_actions = action_shape[0]\n",
    "\n",
    "    act_in = keras.Input(shape=image_shape)\n",
    "    \n",
    "    # Slice the desired crop using Lambda\n",
    "    # For example, slicing the second crop (index 1) and the second channel (index 1)\n",
    "    crop_act_in = layers.Lambda(lambda x: x[:, 1, 1, :, :])(act_in)  # Shape: (224, 224)\n",
    "    \n",
    "    # Reshape to add a channel dimension\n",
    "    act_in_reshape = layers.Reshape((224, 224, 1))(crop_act_in)\n",
    "    \n",
    "    # Convolutional layers\n",
    "    act_x = layers.Conv2D(32, (3, 3), activation='relu')(act_in_reshape)\n",
    "    act_x = layers.MaxPooling2D((2, 2))(act_x)\n",
    "    act_x = layers.Conv2D(64, (3, 3), activation='relu')(act_x)\n",
    "    act_x = layers.MaxPooling2D((2, 2))(act_x)\n",
    "    act_x = layers.Conv2D(64, (3, 3), activation='relu')(act_x)\n",
    "    \n",
    "    # Flatten and fully connected layers\n",
    "    act_x = layers.Flatten()(act_x)\n",
    "    act_x = layers.Dense(64, activation='relu')(act_x)\n",
    "    act_x = layers.Dense(32, activation='relu')(act_x)\n",
    "    act_x = layers.Dense(16, activation='relu')(act_x)\n",
    "    \n",
    "    # Output layer\n",
    "    act_out = layers.Dense(n_actions, activation='sigmoid')(act_x)\n",
    "    \n",
    "    # Create the model\n",
    "    actor = keras.Model(inputs=act_in, outputs=act_out)\n",
    "\n",
    "    action_input = layers.Input(shape=(n_actions,), name='action_input')\n",
    "    observation_input = layers.Input((image_shape), name='observation_input')\n",
    "    observation_crop_act_in = layers.Lambda(lambda x: x[:, 1, 1, :, :])(observation_input)  # Shape: (224, 224)\n",
    "    observation_act_in_reshape = layers.Reshape((224, 224, 1))(observation_crop_act_in)\n",
    "    observation_x = layers.Conv2D(32, (3,3), activation='relu')(observation_act_in_reshape)\n",
    "    observation_x = layers.MaxPool2D((2,2))(observation_x)\n",
    "    observation_x = layers.Conv2D(64, (3,3), activation='relu')(observation_x)\n",
    "    observation_x = layers.MaxPool2D((2,2))(observation_x)\n",
    "    observation_x = layers.Conv2D(64, (3,3), activation='relu')(observation_x)\n",
    "    flattened_observation = layers.Flatten()(observation_x)\n",
    "    x = layers.Concatenate()([action_input, flattened_observation])\n",
    "    x = layers.Dense(64, activation='relu')(x)\n",
    "    x = layers.Dense(32, activation='relu')(x)\n",
    "    x = layers.Dense(16, activation='relu')(x)\n",
    "    x = layers.Dense(1)(x)\n",
    "    critic = keras.Model(inputs=[action_input, observation_input], outputs=x)\n",
    "\n",
    "    return actor, critic\n"
   ]
  },
  {
   "cell_type": "code",
   "execution_count": 10,
   "id": "442b0a7e-29bf-4724-ba7f-94ae31851548",
   "metadata": {},
   "outputs": [],
   "source": [
    "a,c= build_actor_critic(image_shape)"
   ]
  },
  {
   "cell_type": "code",
   "execution_count": 13,
   "id": "5890a724-bbea-4055-89f5-cdd183932a0c",
   "metadata": {},
   "outputs": [
    {
     "name": "stdout",
     "output_type": "stream",
     "text": [
      "(445, 5, 3, 224, 224)\n",
      "(445,)\n"
     ]
    }
   ],
   "source": [
    "import numpy as np\n",
    "\n",
    "# Example data\n",
    "x_train = np.random.rand(445, 5, 3, 224, 224)  # Example 5D data\n",
    "y_train = np.random.randint(0, 2, size=(445,))  # Example labels\n",
    "\n",
    "# Shuffle\n",
    "shuffle_inds = np.random.permutation(x_train.shape[0])\n",
    "x_train = x_train[shuffle_inds, ...]\n",
    "y_train = y_train[shuffle_inds]\n",
    "\n",
    "print(x_train.shape)  # Should remain (445, 5, 3, 224, 224)\n",
    "print(y_train.shape)  # Should"
   ]
  },
  {
   "cell_type": "code",
   "execution_count": 5,
   "id": "95451422-b3b6-47e4-9c50-4c495f43050a",
   "metadata": {},
   "outputs": [],
   "source": [
    "# def build_model(input_shape=(5, 3, 224, 224), num_classes=10):\n",
    "#     # Input shape: (5, 3, 224, 224)\n",
    "#     inputs = Input(shape=input_shape)\n",
    "\n",
    "#     # Slice the first crop (index 0) with Lambda layer\n",
    "#     first_crop = Lambda(lambda x: x[0, :, :, :], output_shape=(3, 224, 224))(inputs)  # Shape: (3, 224, 224)\n",
    "\n",
    "#     # Conv2D expects channels-last format; permute if needed\n",
    "#     # first_crop = Lambda(lambda x: tf.transpose(x, perm=[1, 2, 0]))(first_crop)  # Shape: (224, 224, 3)\n",
    "\n",
    "#     # Apply convolutional layers\n",
    "#     x = Conv2D(32, (3, 3), activation='relu', padding='same')(first_crop)\n",
    "#     x = MaxPooling2D((2, 2))(x)\n",
    "\n",
    "#     x = Conv2D(64, (3, 3), activation='relu', padding='same')(x)\n",
    "#     x = MaxPooling2D((2, 2))(x)\n",
    "\n",
    "#     x = Conv2D(128, (3, 3), activation='relu', padding='same')(x)\n",
    "#     x = MaxPooling2D((2, 2))(x)\n",
    "\n",
    "#     # Flatten and Fully Connected Layers\n",
    "#     x = Flatten()(x)\n",
    "#     x = Dense(128, activation='relu')(x)\n",
    "#     x = Dropout(0.5)(x)\n",
    "#     x = Dense(64, activation='relu')(x)\n",
    "#     x = Dropout(0.5)(x)\n",
    "\n",
    "#     # Output Layer\n",
    "#     outputs = Dense(num_classes, activation='softmax')(x)\n",
    "\n",
    "#     # Build the model\n",
    "#     model = Model(inputs, outputs)\n",
    "#     return model\n",
    "\n",
    "# # Build and compile the model\n",
    "# input_shape = (5, 3, 224, 224)  # Input shape as specified\n",
    "# num_classes = 10  # Replace with your actual number of classes\n",
    "# model = build_model(input_shape=input_shape, num_classes=num_classes)"
   ]
  },
  {
   "cell_type": "code",
   "execution_count": null,
   "id": "b2bd28e3-51d0-45a0-b637-6319beaec8b0",
   "metadata": {},
   "outputs": [],
   "source": []
  }
 ],
 "metadata": {
  "kernelspec": {
   "display_name": "Python (py_36_rf)",
   "language": "python",
   "name": "py_36_rf"
  },
  "language_info": {
   "codemirror_mode": {
    "name": "ipython",
    "version": 3
   },
   "file_extension": ".py",
   "mimetype": "text/x-python",
   "name": "python",
   "nbconvert_exporter": "python",
   "pygments_lexer": "ipython3",
   "version": "3.6.15"
  }
 },
 "nbformat": 4,
 "nbformat_minor": 5
}
